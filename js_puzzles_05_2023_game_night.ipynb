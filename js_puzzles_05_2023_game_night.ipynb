{
  "nbformat": 4,
  "nbformat_minor": 0,
  "metadata": {
    "colab": {
      "provenance": []
    },
    "kernelspec": {
      "name": "python3",
      "display_name": "Python 3"
    },
    "language_info": {
      "name": "python"
    }
  },
  "cells": [
    {
      "cell_type": "markdown",
      "source": [
        "https://www.janestreet.com/puzzles/game-night-index/"
      ],
      "metadata": {
        "id": "ue_HdwsRVh37"
      }
    },
    {
      "cell_type": "code",
      "execution_count": null,
      "metadata": {
        "id": "gL3mg7wxoW_R"
      },
      "outputs": [],
      "source": [
        "b1 = [['polo','england', 'skyscraper','dress','tuxedo'],['agent','compound','deck','shoe','shorts'],['boot','plane','school','cap','texas'],['bomb','dash','telescope','ten','glove'],['kiss','governor','sherlock','suit','sun']]\n",
        "b2 = [['space','mill','circle','duck','powder'],['fever','scorpion','octopus','silk','war'],['hotel','foam','cuckoo','sheet','penguin'],['rabbit','mud','glasses','shark','dog'],['turtle','cloak','reindeer','ice','eagle']]\n",
        "b3 = [['bank','soup','cheese','well','potato'],['magazine','pie','salad','carrot','pizza'],['army','paddle','hamburger','himalayas','country'],['cycle','bride','buscuit','pacific','lab'],['ash','kid','queen','novel','jet']]"
      ]
    },
    {
      "cell_type": "code",
      "source": [
        "def bin_to_char(binary_str):\n",
        "    decimal_value = int(binary_str, 2)\n",
        "    return chr(decimal_value+64)"
      ],
      "metadata": {
        "id": "AcQZR3U4pyug"
      },
      "execution_count": null,
      "outputs": []
    },
    {
      "cell_type": "code",
      "source": [
        "init = [['10011','00011','10010','00001','00010'],['00010','01100','00101','10011','10101'],['01101','01111','00100','00100','00000']]\n",
        "print([bin_to_char(word) for word in init[0]])\n",
        "print([bin_to_char(word) for word in init[1]])\n",
        "print([bin_to_char(word) for word in init[2]])"
      ],
      "metadata": {
        "colab": {
          "base_uri": "https://localhost:8080/"
        },
        "id": "VpmFwij-wug4",
        "outputId": "28c2dbf3-1d40-487f-be5a-d95db996976a"
      },
      "execution_count": null,
      "outputs": [
        {
          "output_type": "stream",
          "name": "stdout",
          "text": [
            "['S', 'C', 'R', 'A', 'B']\n",
            "['B', 'L', 'E', 'S', 'U']\n",
            "['M', 'O', 'D', 'D', '@']\n"
          ]
        }
      ]
    },
    {
      "cell_type": "code",
      "source": [
        "# https://stackoverflow.com/questions/32235033/creating-a-python-scrabble-function-that-takes-a-string-as-input-and-returns-a-s\n",
        "SCORES = {\"a\": 1, \"c\": 3, \"b\": 3, \"e\": 1, \"d\": 2, \"g\": 2, \n",
        "          \"f\": 4, \"i\": 1, \"h\": 4, \"k\": 5, \"j\": 8, \"m\": 3, \n",
        "          \"l\": 1, \"o\": 1, \"n\": 1, \"q\": 10, \"p\": 3, \"s\": 1, \n",
        "          \"r\": 1, \"u\": 1, \"t\": 1, \"w\": 4, \"v\": 4, \"y\": 4, \n",
        "          \"x\": 8, \"z\": 10}\n",
        "\n",
        "def scrab_score(word):\n",
        "    total = 0\n",
        "    for letter in word:\n",
        "        total += SCORES[letter]\n",
        "    return total\n",
        "\n",
        "ss1 = [[scrab_score(word) for word in b1[i]] for i in range(5)]\n",
        "ss2 = [[scrab_score(word) for word in b2[i]] for i in range(5)]\n",
        "ss3 = [[scrab_score(word) for word in b3[i]] for i in range(5)]\n",
        "# print(ss1)\n",
        "# print(ss2)\n",
        "# print(ss3)"
      ],
      "metadata": {
        "id": "_0_rsJT6wsWY"
      },
      "execution_count": null,
      "outputs": []
    },
    {
      "cell_type": "code",
      "source": [
        "l1,l2,l3 =[],[],[]\n",
        "for i in range(len(ss1)):\n",
        "  w1 = ''\n",
        "  w2 = ''\n",
        "  w3 = ''\n",
        "  for j in range(len(ss1[0])):\n",
        "    if ss1[i][j]%2 == 1: w1 += '1'\n",
        "    else: w1 += '0'\n",
        "    if ss2[i][j]%2 == 1: w2 += '1'\n",
        "    else: w2 += '0'\n",
        "    if ss3[i][j]%2 == 1: w3 += '1'\n",
        "    else: w3 += '0'\n",
        "  l1.append(w1)\n",
        "  l2.append(w2)\n",
        "  l3.append(w3)\n",
        "print(l1)\n",
        "print(l2)\n",
        "print(l3)\n",
        "stage1 = [l1,l2,l3]\n",
        "print([bin_to_char(word) for word in l1])\n",
        "print([bin_to_char(word) for word in l2])\n",
        "print([bin_to_char(word) for word in l3])"
      ],
      "metadata": {
        "colab": {
          "base_uri": "https://localhost:8080/"
        },
        "id": "3bJaG5Hlt2ie",
        "outputId": "91981d77-3be3-46d3-8cc3-56eb7fac5838"
      },
      "execution_count": null,
      "outputs": [
        {
          "output_type": "stream",
          "name": "stdout",
          "text": [
            "['01100', '01111', '01110', '00111', '00101']\n",
            "['10010', '10100', '01000', '00001', '01110']\n",
            "['00110', '01001', '10110', '00101', '00000']\n",
            "['L', 'O', 'N', 'G', 'E']\n",
            "['R', 'T', 'H', 'A', 'N']\n",
            "['F', 'I', 'V', 'E', '@']\n"
          ]
        }
      ]
    },
    {
      "cell_type": "code",
      "source": [
        "l1,l2,l3 =[],[],[]\n",
        "for i in range(len(ss1)):\n",
        "  w1 = ''\n",
        "  w2 = ''\n",
        "  w3 = ''\n",
        "  for j in range(len(ss1[0])):\n",
        "    if len(b1[i][j]) > 5: w1 += '1'\n",
        "    else: w1 += '0'\n",
        "    if len(b2[i][j]) > 5: w2 += '1'\n",
        "    else: w2 += '0'\n",
        "    if len(b3[i][j]) > 5: w3 += '1'\n",
        "    else: w3 += '0'\n",
        "  l1.append(w1)\n",
        "  l2.append(w2)\n",
        "  l3.append(w3)\n",
        "print(l1)\n",
        "print(l2)\n",
        "print(l3)\n",
        "stage2 = [l1,l2,l3]\n",
        "print([bin_to_char(word) for word in l1])\n",
        "print([bin_to_char(word) for word in l2])\n",
        "print([bin_to_char(word) for word in l3])"
      ],
      "metadata": {
        "colab": {
          "base_uri": "https://localhost:8080/"
        },
        "id": "V8QpsRgFwg-o",
        "outputId": "26ae1280-b615-420c-dba1-c46e0171ac9e"
      },
      "execution_count": null,
      "outputs": [
        {
          "output_type": "stream",
          "name": "stdout",
          "text": [
            "['01101', '01001', '00100', '00100', '01100']\n",
            "['00101', '01100', '00101', '10100', '10100']\n",
            "['00101', '10010', '01111', '00110', '00000']\n",
            "['M', 'I', 'D', 'D', 'L']\n",
            "['E', 'L', 'E', 'T', 'T']\n",
            "['E', 'R', 'O', 'F', '@']\n"
          ]
        }
      ]
    },
    {
      "cell_type": "code",
      "source": [
        "def middle_letter(str):\n",
        "  l = len(str)\n",
        "  #return str[l//2]\n",
        "  if l%2 == 0: return str[l//2]+str[l//2+1]\n",
        "  else: return str[l//2]\n",
        "\n",
        "# n1,n2,n3 =[],[],[]\n",
        "\n",
        "# for i in range(5):\n",
        "#   for j in range(5):\n",
        "#     if l1[i][j] == '1': n1.append(middle_letter(b1[i][j]))\n",
        "#     if l2[i][j] == '1': n2.append(middle_letter(b2[i][j]))\n",
        "#     if l3[i][j] == '1': n3.append(middle_letter(b3[i][j]))\n",
        "# print(n1)\n",
        "# print(n2)\n",
        "# print(n3)\n",
        "\n",
        "l1,l2,l3 =[],[],[]\n",
        "for i in range(len(ss1)):\n",
        "  w1 = ''\n",
        "  w2 = ''\n",
        "  w3 = ''\n",
        "  for j in range(len(ss1[0])):\n",
        "    # if init[0][i][j] == '1':\n",
        "  #     w1 += b1[i][j]\n",
        "  #     w2 += b2[i][j]\n",
        "  #     w3 += b3[i][j]\n",
        "  # l1.append(middle_letter(w1))\n",
        "  # l2.append(middle_letter(w2))\n",
        "  # l3.append(middle_letter(w3))\n",
        "    w1 += middle_letter(b1[i][j])\n",
        "    w2 += middle_letter(b2[i][j])\n",
        "    w3 += middle_letter(b3[i][j])\n",
        "  l1.append(w1)\n",
        "  l2.append(w2)\n",
        "  l3.append(w3)\n",
        "  #   if 'o' == middle_letter(b1[i][j]) or 'f' == middle_letter(b1[i][j]): w1 += '1'\n",
        "  #   else: w1 += '0'\n",
        "  #   if 'o' == middle_letter(b2[i][j]) or 'f' == middle_letter(b2[i][j]): w2 += '1'\n",
        "  #   else: w2 += '0'\n",
        "  #   if 'o' == middle_letter(b3[i][j]) or 'f' == middle_letter(b3[i][j]): w3 += '1'\n",
        "  #   else: w3 += '0'\n",
        "  # l1.append(w1)\n",
        "  # l2.append(w2)\n",
        "  # l3.append(w3)\n",
        "print(l1)\n",
        "print(l2)\n",
        "print(l3)\n",
        "midwords = [l1, l2, l3]\n",
        "#print([bin_to_char(word) for word in l1])\n",
        "#print([bin_to_char(word) for word in l2])\n",
        "#print([bin_to_char(word) for word in l3])"
      ],
      "metadata": {
        "colab": {
          "base_uri": "https://localhost:8080/"
        },
        "id": "CzkcGbc9xq9K",
        "outputId": "deadbeed-6ec4-496d-e980-babac62fa21c"
      },
      "execution_count": null,
      "outputs": [
        {
          "output_type": "stream",
          "name": "stdout",
          "text": [
            "['lolraeed', 'eouckoert', 'otaooax', 'mbshseo', 'ssrnloitu']\n",
            "['allclckde', 'vpiolka', 'tamkoeg', 'biusao', 'tlodecg']\n",
            "['nkupesllat', 'ziilroz', 'mydluln', 'cicia', 'sieve']\n"
          ]
        }
      ]
    },
    {
      "cell_type": "code",
      "source": [
        "l = []\n",
        "lwords = []\n",
        "for m in range(3):\n",
        "  f = []\n",
        "  for i in range(len(ss1)):\n",
        "    w = ''\n",
        "    for j in range(len(ss1[0])):\n",
        "      if ((init[m][i][j] == '1') and (stage1[m][i][j] == '1') and (stage2[m][i][j] == '1')):\n",
        "        lwords.append(middle_letter(b[m][i][j]))\n",
        "        w += '1'\n",
        "      else:\n",
        "        w+= '0'\n",
        "        #lwords.append('')\n",
        "    f.append(w)\n",
        "  l.append(f)\n",
        "print(l)\n",
        "print(lwords)\n",
        "print([bin_to_char(word) for word in l[0]])\n",
        "print([bin_to_char(word) for word in l[1]])\n",
        "print([bin_to_char(word) for word in l[2]])\n",
        "b = [b1,b2,b3]\n",
        "for m in range(3):\n",
        "  for i in range(5):\n",
        "    for j in range(5):\n",
        "      if l[m][i][j] == '1':\n",
        "        print((b[m][i][j]))"
      ],
      "metadata": {
        "colab": {
          "base_uri": "https://localhost:8080/"
        },
        "id": "xvETGxSr-5bg",
        "outputId": "35b1c977-5518-404f-9864-100ec09e192a"
      },
      "execution_count": null,
      "outputs": [
        {
          "output_type": "stream",
          "name": "stdout",
          "text": [
            "[['00000', '00001', '00000', '00000', '00000'], ['00000', '00100', '00000', '00000', '00100'], ['00100', '00000', '00100', '00100', '00000']]\n",
            "['rt', 'o', 'de', 'es', 'u', 'c']\n",
            "['@', 'A', '@', '@', '@']\n",
            "['@', 'D', '@', '@', 'D']\n",
            "['D', '@', 'D', 'D', '@']\n",
            "shorts\n",
            "octopus\n",
            "reindeer\n",
            "cheese\n",
            "hamburger\n",
            "buscuit\n"
          ]
        }
      ]
    },
    {
      "cell_type": "code",
      "source": [
        "print(init)\n",
        "print(stage1)\n",
        "print(stage2)"
      ],
      "metadata": {
        "colab": {
          "base_uri": "https://localhost:8080/"
        },
        "id": "jY230lGPCD9a",
        "outputId": "660e333a-07be-4145-9761-2e2580d68b4f"
      },
      "execution_count": null,
      "outputs": [
        {
          "output_type": "stream",
          "name": "stdout",
          "text": [
            "[['10011', '00011', '10010', '00001', '00010'], ['00010', '01100', '00101', '10011', '10101'], ['01101', '01111', '00100', '00100', '00000']]\n",
            "[['01100', '01111', '01110', '00111', '00101'], ['10010', '10100', '01000', '00001', '01110'], ['00110', '01001', '10110', '00101', '00000']]\n",
            "[['01101', '01001', '00100', '00100', '01100'], ['00101', '01100', '00101', '10100', '10100'], ['00101', '10010', '01111', '00110', '00000']]\n"
          ]
        }
      ]
    },
    {
      "cell_type": "code",
      "source": [
        "b1 = [['polo','england', 'skyscraper','dress','tuxedo'],['agent','compound','deck','shoe','shorts'],['boot','plane','school','cap','texas'],['bomb','dash','telescope','ten','glove'],['kiss','governor','sherlock','suit','sun']]\n",
        "b2 = [['space','mill','circle','duck','powder'],['fever','scorpion','octopus','silk','war'],['hotel','foam','cuckoo','sheet','penguin'],['rabbit','mud','glasses','shark','dog'],['turtle','cloak','reindeer','ice','eagle']]\n",
        "b3 = [['bank','soup','cheese','well','potato'],['magazine','pie','salad','carrot','pizza'],['army','paddle','hamburger','himalayas','country'],['cycle','bride','buscuit','pacific','lab'],['ash','kid','queen','novel','jet']]\n",
        "s1 = [['10011', '00011', '10010', '00001', '00010'], ['00010', '01100', '00101', '10011', '10101'], ['01101', '01111', '00100', '00100', '00000']]\n",
        "s2 = [['01100', '01111', '01110', '00111', '00101'], ['10010', '10100', '01000', '00001', '01110'], ['00110', '01001', '10110', '00101', '00000']]\n",
        "s3 = [['01101', '01001', '00100', '00100', '01100'], ['00101', '01100', '00101', '10100', '10100'], ['00101', '10010', '01111', '00110', '00000']]\n",
        "\n",
        "We looked at the boards over and over again and decided that when the clues encode the target words in such a binary fashion you can get impressive results.\n",
        "\n",
        "The hint is \"sieve\".\n",
        "\n",
        "[The answer to this puzzle is a single word.]"
      ],
      "metadata": {
        "id": "R0xygnDlCImh",
        "colab": {
          "base_uri": "https://localhost:8080/",
          "height": 134
        },
        "outputId": "05edf751-ebda-4d2d-de7a-d262915a201f"
      },
      "execution_count": null,
      "outputs": [
        {
          "output_type": "error",
          "ename": "SyntaxError",
          "evalue": "ignored",
          "traceback": [
            "\u001b[0;36m  File \u001b[0;32m\"<ipython-input-121-2cf31f651062>\"\u001b[0;36m, line \u001b[0;32m8\u001b[0m\n\u001b[0;31m    We looked at the boards over and over again and decided that when the clues encode the target words in such a binary fashion you can get impressive results.\u001b[0m\n\u001b[0m       ^\u001b[0m\n\u001b[0;31mSyntaxError\u001b[0m\u001b[0;31m:\u001b[0m invalid syntax\n"
          ]
        }
      ]
    },
    {
      "cell_type": "code",
      "source": [
        "b1 = [['polo','england', 'skyscraper','dress','tuxedo'],['agent','compound','deck','shoe','shorts'],['boot','plane','school','cap','texas'],['bomb','dash','telescope','ten','glove'],['kiss','governor','sherlock','suit','sun']]\n",
        "b2 = [['space','mill','circle','duck','powder'],['fever','scorpion','octopus','silk','war'],['hotel','foam','cuckoo','sheet','penguin'],['rabbit','mud','glasses','shark','dog'],['turtle','cloak','reindeer','ice','eagle']]\n",
        "b3 = [['bank','soup','cheese','well','potato'],['magazine','pie','salad','carrot','pizza'],['army','paddle','hamburger','himalayas','country'],['cycle','bride','buscuit','pacific','lab'],['ash','kid','queen','novel','jet']]\n",
        "\n",
        "We looked at the boards over and over again and decided that when the clues encode the target words in such a binary fashion you can get impressive results.\n",
        "\n",
        "The hint is \"SIEVE\"\n",
        "\n",
        "[The answer to this puzzle is a single word.]"
      ],
      "metadata": {
        "id": "1gLyt8lRHRhc"
      },
      "execution_count": null,
      "outputs": []
    }
  ]
}
