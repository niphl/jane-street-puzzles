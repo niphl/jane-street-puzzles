{
  "nbformat": 4,
  "nbformat_minor": 0,
  "metadata": {
    "colab": {
      "provenance": []
    },
    "kernelspec": {
      "name": "python3",
      "display_name": "Python 3"
    },
    "language_info": {
      "name": "python"
    }
  },
  "cells": [
    {
      "cell_type": "code",
      "execution_count": 1,
      "metadata": {
        "id": "g4w9lfQydlzR"
      },
      "outputs": [],
      "source": [
        "import random\n",
        "import math\n",
        "from matplotlib import pyplot as plt\n",
        "import numpy as np\n",
        "\n",
        "def os(x): # returns probability of overshooting\n",
        "  return 1-math.exp(x)*(1-x)\n",
        "# def wrres(x,y): # returns probability of strategy x beating strategy y if they both don't overshoot\n",
        "#   if (x < y): return 1 - wrres(y,x)\n",
        "#   return (x*x*x-x*x*(2*y+1)+x*(y+2)*(3*y-2)+y*(10-y*(2*y+3))-6)/(12*(y-1))\n",
        "# def wr(x,y): # returns overall probability of strategy x beating strategy y\n",
        "#   if (x < y): return 1 - wr(y,x)\n",
        "#   ox = os(x)\n",
        "#   oy = os(y)\n",
        "#   w = wrres(x,y)\n",
        "#   return (1-ox)*(oy+(1-oy)*w)/(1-ox*oy)\n",
        "# def simduel(x,y):\n",
        "#     while (True):\n",
        "#       low_pos, high_pos = 0,0\n",
        "#       while low_pos < x:\n",
        "#         low_pos += random.random()\n",
        "#       while high_pos < y:\n",
        "#         high_pos += random.random()\n",
        "#       if high_pos <= 1 or low_pos <= 1:\n",
        "#         break\n",
        "#     if (high_pos > 1) and (low_pos <= 1):\n",
        "#       return 1\n",
        "#     elif low_pos > 1 and high_pos <= 1:\n",
        "#       return 0\n",
        "#     else:\n",
        "#       low_pos += random.random()\n",
        "#       high_pos += random.random()\n",
        "#       return 1*(low_pos > high_pos)\n",
        "# wr(0.49999,0.5)\n"
      ]
    },
    {
      "cell_type": "code",
      "source": [
        "# needed for higher number of decimal places precision\n",
        "from mpmath import *\n",
        "mp.dps = 100\n",
        "def mpos(x): # returns probability of overshooting\n",
        "  return mpf(1)-mp.exp(x)*mpf(1-x)\n",
        "def mpwrres(x,y): # returns probability of strategy x beating strategy y if they both don't overshoot\n",
        "  if (x < y): return mpf(1) - mpwrres(y,x)\n",
        "  x = mpf(x)\n",
        "  y = mpf(y)\n",
        "  return (x*x*x-x*x*(mpf(2)*y+mpf(1))+x*(y+mpf(2))*(mpf(3)*y-mpf(2))+y*(mpf(10)-y*(mpf(2)*y+mpf(3)))-mpf(6))/(mpf(12)*(y-mpf(1)))\n",
        "def mpwr(x,y): # returns overall probability of strategy x beating strategy y\n",
        "  if (x < y): return mpf(1) - mpwr(y,x)\n",
        "  ox = mpos(x)\n",
        "  oy = mpos(y)\n",
        "  w = mpwrres(x,y)\n",
        "  return mpf((mpf(1)-ox)*(oy+(mpf(1)-oy)*w)/(mpf(1)-ox*oy))"
      ],
      "metadata": {
        "id": "J8YqTLzhYPAe"
      },
      "execution_count": 2,
      "outputs": []
    },
    {
      "cell_type": "code",
      "source": [
        "# We try to find optimal threshold t by simulated annealing\n",
        "\n",
        "t = 0.4\n",
        "max_step = 0.15*10**-2\n",
        "t_values = []\n",
        "for i in range(300000):\n",
        "  rand_num = 2*random.random()-1\n",
        "  #randomly sometimes multiplty it by up to 32\n",
        "  rand_num *= 2**(random.random()*5)\n",
        "  #randomly introduce larger jumps\n",
        "  if (random.random()>0.85): rand_num *= 10**(random.random()*10//1)\n",
        "  new_contender = min(t + max_step*rand_num,1)\n",
        "  if mpwr(t,new_contender) < 0.5:\n",
        "    if (i>299700): print(mpwr(t,new_contender))\n",
        "    t = new_contender\n",
        "  t_values.append(t)\n",
        "  if (max_step > 10**-18): max_step *= 0.99\n",
        "#plt.plot(t_values)\n",
        "print(t)\n",
        "print(max_step)\n",
        "print(os(t))\n",
        "plt.plot(t_values)\n",
        "print(sum(t_values[-5000:])/5000)\n",
        "print(os(sum(t_values[-5000:])/5000))"
      ],
      "metadata": {
        "colab": {
          "base_uri": "https://localhost:8080/",
          "height": 517
        },
        "id": "ZKuMOo43fldZ",
        "outputId": "43c0332a-efd9-4577-b14c-7c0971331dec"
      },
      "execution_count": 3,
      "outputs": [
        {
          "output_type": "stream",
          "name": "stdout",
          "text": [
            "0.4161953548582363\n",
            "9.992240416058543e-19\n",
            "0.11484588598134082\n",
            "0.41619535485824527\n",
            "0.1148458859813466\n"
          ]
        },
        {
          "output_type": "display_data",
          "data": {
            "text/plain": [
              "<Figure size 640x480 with 1 Axes>"
            ],
            "image/png": "[encoded data removed]"
          },
          "metadata": {}
        }
      ]
    },
    {
      "cell_type": "code",
      "source": [
        "# We try to find optimal threshold t by repeatedly guessing\n",
        "\n",
        "t = 0.41\n",
        "max_step = 0.15*10**-1\n",
        "t_values = []\n",
        "for i in range(200000):\n",
        "  rand_num = 2*random.random()-1\n",
        "  #randomly sometimes multiplty it by up to 32\n",
        "  rand_num *= 2**(random.random()*5)\n",
        "  #randomly introduce larger jumps\n",
        "  if (random.random()>0.85): rand_num *= 10**(random.random()*10//1)\n",
        "  new_contender = min(t + max_step*rand_num,1)\n",
        "  if mpwr(t,new_contender) < 0.5:\n",
        "    if (i>299700): print(mpwr(t,new_contender))\n",
        "    t = new_contender\n",
        "  t_values.append(t)\n",
        "  if (max_step > 10**-18): max_step *= 0.99\n",
        "#plt.plot(t_values)\n",
        "print(t)\n",
        "print(max_step)\n",
        "print(os(t))\n",
        "plt.plot(t_values)\n",
        "print(sum(t_values[-5000:])/5000)\n",
        "print(os(sum(t_values[-5000:])/5000))"
      ],
      "metadata": {
        "colab": {
          "base_uri": "https://localhost:8080/",
          "height": 517
        },
        "id": "yNtT9r_jNBc1",
        "outputId": "84196aba-7c34-47b6-ef00-70323309f184"
      },
      "execution_count": 4,
      "outputs": [
        {
          "output_type": "stream",
          "name": "stdout",
          "text": [
            "0.4161953548582363\n",
            "9.90279143053719e-19\n",
            "0.11484588598134082\n",
            "0.41619535485824527\n",
            "0.1148458859813466\n"
          ]
        },
        {
          "output_type": "display_data",
          "data": {
            "text/plain": [
              "<Figure size 640x480 with 1 Axes>"
            ],
            "image/png": "[encoded data removed]"
          },
          "metadata": {}
        }
      ]
    }
  ]
}