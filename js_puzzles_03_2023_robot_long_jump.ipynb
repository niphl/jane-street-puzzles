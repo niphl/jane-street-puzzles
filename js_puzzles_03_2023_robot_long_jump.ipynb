{
  "nbformat": 4,
  "nbformat_minor": 0,
  "metadata": {
    "colab": {
      "provenance": []
    },
    "kernelspec": {
      "name": "python3",
      "display_name": "Python 3"
    },
    "language_info": {
      "name": "python"
    }
  },
  "cells": [
    {
      "cell_type": "markdown",
      "source": [
        "# Robot Long Jump\n",
        "MARCH 2023 : PUZZLE"
      ],
      "metadata": {
        "id": "Xmypb-d-LHwB"
      }
    },
    {
      "cell_type": "markdown",
      "source": [
        "Great news! The variety of robotic competition continues to grow at breakneck pace! Most recently, head-to-head long jump contests have been all the rage.\n",
        "\n",
        "These contests consist of rounds in which each robot has a single attempt to score. In an attempt, a robot speeds down the running track (modeled as the numberline) from 0, the starting line, to 1, the takeoff point. A robot moves along this track by drawing a real number uniformly from [0,1] and adding it to the robot’s current position. After each of these advances, the robot must decide whether to jump or wait. If a robot crosses the takeoff point (at 1) before jumping its attempt receives a score of 0. If the robot jumps before crossing 1, it draws one final real number from [0,1] and adds it to its current position, and this final sum is the score of the attempt.\n",
        "\n",
        "In a head-to-head contest, the two robots each have a single attempt without knowing the other’s result. In the case that they tie (typically because they both scored 0), that round is discarded and a new round begins. As soon as one robot scores higher than the other on the same round, that robot is declared the winner!\n",
        "\n",
        "Assume both robots are programmed to optimize their probability of winning and are aware of each other’s strategies. You are just sitting down to watch a match’s very first attempt (of the first round, which may or may not end up being discarded). What is the probability that this attempt scores 0? Give this probability as a decimal rounded to 9 digits past the decimal point."
      ],
      "metadata": {
        "id": "kfrXeFm6LDPa"
      }
    },
    {
      "cell_type": "code",
      "execution_count": 1,
      "metadata": {
        "id": "g4w9lfQydlzR"
      },
      "outputs": [],
      "source": [
        "import random\n",
        "import math\n",
        "from matplotlib import pyplot as plt\n",
        "import numpy as np\n",
        "\n",
        "def os(x): # returns probability of overshooting\n",
        "  return 1-math.exp(x)*(1-x)"
      ]
    },
    {
      "cell_type": "code",
      "source": [
        "# needed for higher number of decimal places precision\n",
        "from mpmath import *\n",
        "mp.dps = 100\n",
        "def mpos(x): # returns probability of overshooting\n",
        "  return mpf(1)-mp.exp(x)*mpf(1-x)\n",
        "def mpwrres(x,y): # returns probability of strategy x beating strategy y if they both don't overshoot\n",
        "  if (x < y): return mpf(1) - mpwrres(y,x)\n",
        "  x = mpf(x)\n",
        "  y = mpf(y)\n",
        "  return (x*x*x-x*x*(mpf(2)*y+mpf(1))+x*(y+mpf(2))*(mpf(3)*y-mpf(2))+y*(mpf(10)-y*(mpf(2)*y+mpf(3)))-mpf(6))/(mpf(12)*(y-mpf(1)))\n",
        "def mpwr(x,y): # returns overall probability of strategy x beating strategy y\n",
        "  if (x < y): return mpf(1) - mpwr(y,x)\n",
        "  ox = mpos(x)\n",
        "  oy = mpos(y)\n",
        "  w = mpwrres(x,y)\n",
        "  return mpf((mpf(1)-ox)*(oy+(mpf(1)-oy)*w)/(mpf(1)-ox*oy))"
      ],
      "metadata": {
        "id": "J8YqTLzhYPAe"
      },
      "execution_count": 2,
      "outputs": []
    },
    {
      "cell_type": "code",
      "source": [
        "# We try to find optimal threshold t by simulated annealing\n",
        "\n",
        "t = 0.4\n",
        "max_step = 0.15*10**-2\n",
        "t_values = []\n",
        "for i in range(300000):\n",
        "  rand_num = 2*random.random()-1\n",
        "  #randomly sometimes multiplty it by up to 32\n",
        "  rand_num *= 2**(random.random()*5)\n",
        "  #randomly introduce larger jumps\n",
        "  if (random.random()>0.85): rand_num *= 10**(random.random()*10//1)\n",
        "  new_contender = min(t + max_step*rand_num,1)\n",
        "  if mpwr(t,new_contender) < 0.5:\n",
        "    if (i>299700): print(mpwr(t,new_contender))\n",
        "    t = new_contender\n",
        "  t_values.append(t)\n",
        "  if (max_step > 10**-18): max_step *= 0.99\n",
        "#plt.plot(t_values)\n",
        "print(t)\n",
        "print(max_step)\n",
        "print(os(t))\n",
        "plt.plot(t_values)\n",
        "print(sum(t_values[-5000:])/5000)\n",
        "print(os(sum(t_values[-5000:])/5000))"
      ],
      "metadata": {
        "colab": {
          "base_uri": "https://localhost:8080/",
          "height": 517
        },
        "id": "ZKuMOo43fldZ",
        "outputId": "43c0332a-efd9-4577-b14c-7c0971331dec"
      },
      "execution_count": 3,
      "outputs": [
        {
          "output_type": "stream",
          "name": "stdout",
          "text": [
            "0.4161953548582363\n",
            "9.992240416058543e-19\n",
            "0.11484588598134082\n",
            "0.41619535485824527\n",
            "0.1148458859813466\n"
          ]
        },
        {
          "output_type": "display_data",
          "data": {
            "text/plain": [
              "<Figure size 640x480 with 1 Axes>"
            ],
            "image/png": "[encoded data removed]"
          },
          "metadata": {}
        }
      ]
    }
  ]
}